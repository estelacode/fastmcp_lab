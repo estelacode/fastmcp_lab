{
 "cells": [
  {
   "cell_type": "markdown",
   "id": "7d158f7b",
   "metadata": {},
   "source": [
    "# FastMCP\n",
    "\n",
    "`FastMCP` is the **standard framework** for working with the **Model Context Protocol**. `FastMCP 1.0` was incorporated into the official MCP Python SDK in 2024.\n",
    "`FastMCP 2.0`, is the **actively maintained version** that provides a complete toolkit for working with the **MCP ecosystem** including client libraries, authentication systems, deployment tools, integrations with major AI platforms, testing frameworks, and production-ready infrastructure patterns.\n",
    "\n",
    "## MPC (Model Context Protocol)\n",
    "\n",
    "The **Model Context Protocol** lets you build servers that expose data and functionality to LLM applications in a secure, standardized way.\n",
    "MCP servers can:\n",
    "\n",
    "* **Expose data** through `Resources` (think of these sort of like **GET endpoints**; they are used <u>to load information into the LLM’s context</u>)\n",
    "* **Provide functionality** through `Tools` (sort of like **POST endpoints**; they are used <u>to execute code or otherwise produce a side effect</u>)\n",
    "* **Define interaction patterns** through `Prompts` (reusable templates for LLM interactions)\n",
    "\n",
    "FastMCP provides a high-level, `Pythonic interface` for **building**, **managing**, and **interacting** with these **servers**.\n",
    "In addition, It handles all the complex protocol details and server management."
   ]
  },
  {
   "cell_type": "code",
   "execution_count": 12,
   "id": "4954d0dd",
   "metadata": {},
   "outputs": [],
   "source": [
    "from fastmcp import FastMCP, Client\n",
    "import asyncio, nest_asyncio\n",
    "nest_asyncio.apply()"
   ]
  },
  {
   "cell_type": "markdown",
   "id": "2a477189",
   "metadata": {},
   "source": [
    "### Create a FastMCP Server\n"
   ]
  },
  {
   "cell_type": "code",
   "execution_count": null,
   "id": "a910c5c0",
   "metadata": {},
   "outputs": [],
   "source": [
    "# Create a FastMCP server\n",
    "mcp = FastMCP(\"My MCP Server\")"
   ]
  },
  {
   "cell_type": "markdown",
   "id": "36acc3b9",
   "metadata": {},
   "source": [
    "### Adding a tool to the server"
   ]
  },
  {
   "cell_type": "code",
   "execution_count": 5,
   "id": "930c892a",
   "metadata": {},
   "outputs": [],
   "source": [
    "# it uses the @mcp.tool decorator to add a new tool to the server\n",
    "@mcp.tool\n",
    "def greet(name: str) -> str:\n",
    "    return f\"Hello, {name}!\""
   ]
  },
  {
   "cell_type": "markdown",
   "id": "a712987c",
   "metadata": {},
   "source": [
    "### Testing the Server\n",
    "To test the server, create a **FastMCP client** and point it at the **server object**.\n",
    "* Clients are asynchronous, so we need to use `asyncio.run` to run the `client`.\n",
    "* We must enter a client context (`async with client:`) before using the `client`. <u>You can make **multiple client calls** within the same context.</u>\n",
    "\n",
    "`Note`: When we say that a client is asynchronous, we mean that it can perform multiple tasks without blocking or waiting for each other to complete. In the context of a `client-server` **architecture**, an **asynchronous client** <u>can send multiple requests to the server without waiting for the previous request to complete.</u>"
   ]
  },
  {
   "cell_type": "code",
   "execution_count": null,
   "id": "a83c0dc6",
   "metadata": {},
   "outputs": [],
   "source": [
    "# Create a FastMCP client\n",
    "client = Client(mcp)"
   ]
  },
  {
   "cell_type": "markdown",
   "id": "d19136d0",
   "metadata": {},
   "source": [
    "### Making an asynchronous call to an MCP Server\n",
    "\n",
    "\"When running `asyncio.run()` in a Jupyter notebook, a RuntimeError occurs because the notebook already has an event loop running. To fix this, use `nest_asyncio` or run the code in a `standalone Python script` instead.\"\n",
    " \n",
    "* The `asyncio` library is an standard of Python for async programming. It is used to write asynchronous code that runs concurrently, namely, that can realize several tasks at the same time without blocking the running of the program.\n",
    "\n",
    "* The `nest_asyncio` library is used to run asynchronous  code within an existing event loop. It is useful when it want to execute asynchronous code within an enviroment that it has an event loop in execution, as in the case with Jupyter Notebook.\n",
    "\n",
    "Notes: \n",
    "\n",
    "\n",
    "* **Concurrency** is the ability to handle multiple tasks at the same time, but not necessarily simultaneously. It means that tasks can start, run, and complete in overlapping time periods, often with a single processor.\n",
    "\n",
    "`Example`: Imagine a single chef (CPU) preparing multiple dishes (tasks) at once. They might chop vegetables for one dish, then stir another, then start a third, and so on. The dishes aren't all being cooked at the exact same moment, but the chef is managing them all concurrently. In programming, this is achieved through context switching, where the CPU rapidly switches between different tasks\n",
    "\n",
    "* **Parallelism** is the ability to execute multiple tasks simultaneously, often on different processor cores.\n",
    "\n",
    "`Example`: Now imagine two chefs (two CPUs) each working on a different dish simultaneously. They are both cooking at the same time, using their own resources (stoves, pots). This is parallelism – tasks executing truly at the same time. In programming, this requires multiple processing units (cores) to run tasks concurrently.\n",
    "\n",
    "\n",
    "*  **Asynchronous programming** is a technique that allows tasks to run without blocking the main program flow. In other words, allows a program to perform multiple operations concurrently without waiting for each operation to complete before starting the next.\n",
    "\n",
    "`Example`: Think of a person ordering food at a restaurant. They place the order (initiate a task) and then can continue browsing their phone or talking to a friend (do other work) while the restaurant prepares the food. The person doesn't have to sit and stare at the kitchen waiting for the food. In programming, asynchronous operations allow a program to continue executing other code while waiting for a task (like fetching data from a database or a website) to complete. This prevents the program from becoming unresponsive. "
   ]
  },
  {
   "cell_type": "code",
   "execution_count": null,
   "id": "2b4fac80",
   "metadata": {},
   "outputs": [
    {
     "ename": "RuntimeError",
     "evalue": "asyncio.run() cannot be called from a running event loop",
     "output_type": "error",
     "traceback": [
      "\u001b[31m---------------------------------------------------------------------------\u001b[39m",
      "\u001b[31mRuntimeError\u001b[39m                              Traceback (most recent call last)",
      "\u001b[36mCell\u001b[39m\u001b[36m \u001b[39m\u001b[32mIn[10]\u001b[39m\u001b[32m, line 7\u001b[39m\n\u001b[32m      4\u001b[39m         result = \u001b[38;5;28;01mawait\u001b[39;00m client.call_tool(\u001b[33m\"\u001b[39m\u001b[33mgreet\u001b[39m\u001b[33m\"\u001b[39m, {\u001b[33m\"\u001b[39m\u001b[33mname\u001b[39m\u001b[33m\"\u001b[39m: name}) \u001b[38;5;66;03m# an asynchronous call to the `call_tool` method of the client object\u001b[39;00m\n\u001b[32m      5\u001b[39m         \u001b[38;5;28mprint\u001b[39m(result) \u001b[38;5;66;03m# prints the result of the call\u001b[39;00m\n\u001b[32m----> \u001b[39m\u001b[32m7\u001b[39m \u001b[43masyncio\u001b[49m\u001b[43m.\u001b[49m\u001b[43mrun\u001b[49m\u001b[43m(\u001b[49m\u001b[43mcall_tool\u001b[49m\u001b[43m(\u001b[49m\u001b[33;43m\"\u001b[39;49m\u001b[33;43mFord\u001b[39;49m\u001b[33;43m\"\u001b[39;49m\u001b[43m)\u001b[49m\u001b[43m)\u001b[49m\n",
      "\u001b[36mFile \u001b[39m\u001b[32m~\\AppData\\Local\\Programs\\Python\\Python313\\Lib\\asyncio\\runners.py:191\u001b[39m, in \u001b[36mrun\u001b[39m\u001b[34m(main, debug, loop_factory)\u001b[39m\n\u001b[32m    161\u001b[39m \u001b[38;5;250m\u001b[39m\u001b[33;03m\"\"\"Execute the coroutine and return the result.\u001b[39;00m\n\u001b[32m    162\u001b[39m \n\u001b[32m    163\u001b[39m \u001b[33;03mThis function runs the passed coroutine, taking care of\u001b[39;00m\n\u001b[32m   (...)\u001b[39m\u001b[32m    187\u001b[39m \u001b[33;03m    asyncio.run(main())\u001b[39;00m\n\u001b[32m    188\u001b[39m \u001b[33;03m\"\"\"\u001b[39;00m\n\u001b[32m    189\u001b[39m \u001b[38;5;28;01mif\u001b[39;00m events._get_running_loop() \u001b[38;5;129;01mis\u001b[39;00m \u001b[38;5;129;01mnot\u001b[39;00m \u001b[38;5;28;01mNone\u001b[39;00m:\n\u001b[32m    190\u001b[39m     \u001b[38;5;66;03m# fail fast with short traceback\u001b[39;00m\n\u001b[32m--> \u001b[39m\u001b[32m191\u001b[39m     \u001b[38;5;28;01mraise\u001b[39;00m \u001b[38;5;167;01mRuntimeError\u001b[39;00m(\n\u001b[32m    192\u001b[39m         \u001b[33m\"\u001b[39m\u001b[33masyncio.run() cannot be called from a running event loop\u001b[39m\u001b[33m\"\u001b[39m)\n\u001b[32m    194\u001b[39m \u001b[38;5;28;01mwith\u001b[39;00m Runner(debug=debug, loop_factory=loop_factory) \u001b[38;5;28;01mas\u001b[39;00m runner:\n\u001b[32m    195\u001b[39m     \u001b[38;5;28;01mreturn\u001b[39;00m runner.run(main)\n",
      "\u001b[31mRuntimeError\u001b[39m: asyncio.run() cannot be called from a running event loop"
     ]
    }
   ],
   "source": [
    "# Define an async function to call a tool \n",
    "async def call_tool(name: str):\n",
    "    async with client: #  is a context manager that ensures the client object is properly cleaned up after use.  \n",
    "        result = await client.call_tool(\"greet\", {\"name\": name}) # an asynchronous call to the call_tool method of the client object\n",
    "        print(result) # prints the result of the call\n",
    "\n",
    "asyncio.run(call_tool(\"Ford\"))"
   ]
  },
  {
   "cell_type": "markdown",
   "id": "0ca3a266",
   "metadata": {},
   "source": [
    "### Solution "
   ]
  },
  {
   "cell_type": "code",
   "execution_count": 21,
   "id": "5ea1037a",
   "metadata": {},
   "outputs": [
    {
     "data": {
      "text/plain": [
       "CallToolResult(content=[TextContent(type='text', text='Hello, Ford!', annotations=None, meta=None)], structured_content={'result': 'Hello, Ford!'}, data='Hello, Ford!', is_error=False)"
      ]
     },
     "execution_count": 21,
     "metadata": {},
     "output_type": "execute_result"
    }
   ],
   "source": [
    "# Define an async function to call a tool \n",
    "async def call_tool(name: str):\n",
    "    async with client: #  is a context manager that ensures the client object is properly cleaned up after use.  \n",
    "        result = await client.call_tool(\"greet\", {\"name\": name}) # an asynchronous call to the call_tool method of the client object\n",
    "        return(result) # prints the result of the call\n",
    "\n",
    "await call_tool(\"Ford\")"
   ]
  },
  {
   "cell_type": "code",
   "execution_count": null,
   "id": "9ed4c6b6",
   "metadata": {},
   "outputs": [],
   "source": [
    "result = await call_tool(\"Maria\")"
   ]
  },
  {
   "cell_type": "code",
   "execution_count": 31,
   "id": "be2cb963",
   "metadata": {},
   "outputs": [
    {
     "name": "stdout",
     "output_type": "stream",
     "text": [
      "CallToolResult(content=[TextContent(type='text', text='Hello, Maria!', annotations=None, meta=None)], structured_content={'result': 'Hello, Maria!'}, data='Hello, Maria!', is_error=False)\n"
     ]
    }
   ],
   "source": [
    "print(result)"
   ]
  },
  {
   "cell_type": "code",
   "execution_count": 23,
   "id": "163cc293",
   "metadata": {},
   "outputs": [
    {
     "name": "stdout",
     "output_type": "stream",
     "text": [
      "<class 'fastmcp.client.client.CallToolResult'>\n"
     ]
    }
   ],
   "source": [
    "print(type(result))"
   ]
  },
  {
   "cell_type": "code",
   "execution_count": 34,
   "id": "d7bdc8c8",
   "metadata": {},
   "outputs": [
    {
     "name": "stdout",
     "output_type": "stream",
     "text": [
      "Hello, Maria!\n",
      "None\n"
     ]
    }
   ],
   "source": [
    "# Access the content of the result\n",
    "print(result.content[0].text)\n",
    "\n",
    "# Access the annotations of the result\n",
    "print(result.content[0].annotations)"
   ]
  },
  {
   "cell_type": "code",
   "execution_count": null,
   "id": "580fd0c1",
   "metadata": {},
   "outputs": [
    {
     "name": "stdout",
     "output_type": "stream",
     "text": [
      "Hello, Maria!\n"
     ]
    }
   ],
   "source": [
    "# Access the structured content of the result\n",
    "print(result.structured_content[\"result\"])"
   ]
  },
  {
   "cell_type": "code",
   "execution_count": null,
   "id": "22d8715c",
   "metadata": {},
   "outputs": [
    {
     "name": "stdout",
     "output_type": "stream",
     "text": [
      "Hello, Maria!\n"
     ]
    }
   ],
   "source": [
    "# Access the data of the result\n",
    "print(result.data)"
   ]
  }
 ],
 "metadata": {
  "kernelspec": {
   "display_name": ".venv",
   "language": "python",
   "name": "python3"
  },
  "language_info": {
   "codemirror_mode": {
    "name": "ipython",
    "version": 3
   },
   "file_extension": ".py",
   "mimetype": "text/x-python",
   "name": "python",
   "nbconvert_exporter": "python",
   "pygments_lexer": "ipython3",
   "version": "3.13.3"
  }
 },
 "nbformat": 4,
 "nbformat_minor": 5
}
